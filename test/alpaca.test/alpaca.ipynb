{
 "cells": [
  {
   "cell_type": "markdown",
   "metadata": {},
   "source": [
    "## Test ASCOM Alpaca Device API"
   ]
  },
  {
   "cell_type": "code",
   "execution_count": 44,
   "metadata": {
    "ExecuteTime": {
     "end_time": "2023-05-10T04:54:53.841585Z",
     "start_time": "2023-05-10T04:54:53.804353Z"
    },
    "pycharm": {
     "is_executing": true
    }
   },
   "outputs": [],
   "source": [
    "# base_url = \"http://docker.oca.lan:8089/api/v1\"   # ASCOM Alpaca Simulator\n",
    "# base_url = \"http://wk06-tcu.oca.lan:11111/api/v1\"    # wk06 Telescope\n",
    "base_url = \"http://zb08-tcu.oca.lan:11111/api/v1\"    # zb08 Telescope\n",
    "# base_url = \"http://jk15-tcu.oca.lan:11111/api/v1\"    # jk15 Telescope"
   ]
  },
  {
   "cell_type": "code",
   "execution_count": 45,
   "metadata": {
    "ExecuteTime": {
     "end_time": "2023-05-10T04:56:56.729587Z",
     "start_time": "2023-05-10T04:56:56.569082Z"
    }
   },
   "outputs": [],
   "source": [
    "import requests"
   ]
  },
  {
   "cell_type": "code",
   "execution_count": 46,
   "metadata": {
    "ExecuteTime": {
     "end_time": "2023-05-10T04:56:59.292335Z",
     "start_time": "2023-05-10T04:56:59.287597Z"
    }
   },
   "outputs": [],
   "source": [
    "def send_request(endpoint, method, params=None):\n",
    "    headers = {\n",
    "        # \"Authorization\": f\"Bearer {access_token}\",\n",
    "        \"Content-Type\": \"application/json\",\n",
    "    }\n",
    "    url = f\"{base_url}/{endpoint}{method}\"\n",
    "    response = requests.get(url, headers=headers, params=params)\n",
    "    try:\n",
    "        j = response.json()\n",
    "        tex = j['Value']\n",
    "    except:\n",
    "        tex = f\"Error {response.status_code}:  {response.text}\"\n",
    "    print(f\"{endpoint}{method:16}: {tex}\")\n"
   ]
  },
  {
   "cell_type": "code",
   "execution_count": 47,
   "metadata": {
    "ExecuteTime": {
     "end_time": "2023-05-10T04:57:01.680376Z",
     "start_time": "2023-05-10T04:57:00.858018Z"
    }
   },
   "outputs": [
    {
     "name": "stdout",
     "output_type": "stream",
     "text": [
      "telescope/0/connected       : True\n",
      "telescope/0/description     : Autoslew Alpaca Telescope\n",
      "telescope/0/driverinfo      : ASCOM Dynamic Driver v6.6.1.3673 - REMOTE DEVICE: Autoslew Vers. 5.6.1.3\n",
      "telescope/0/driverversion   : 2.0\n",
      "telescope/0/interfaceversion: 3\n",
      "telescope/0/name            : Autoslew Telescope\n",
      "telescope/0/supportedactions: ['forcenextpierside', 'telescope:clearerror', 'telescope:errorstring', 'telescope:opencover', 'telescope:closecover', 'telescope:closecover', 'telescope:coverstatus', 'telescope:motoron', 'telescope:motoroff', 'motstat', 'telescope:horizonlimit', 'telescope:reportmounttype', 'telescope:reportminalt', 'telescope:reportmaxalt', 'telescope:reportmindec', 'telescope:reportmaxdec', 'telescope:reportcablezero', 'telescope:startfans', 'telescope:stopfans', 'telescope:updatepolaraxisaz', 'telescope:updatepolaraxisal', 'telescope:setnewconfig', 'telescope:altazunwind', 'trackposition', 'sat:startalt', 'sat:name', 'sat:delay', 'sat:line1', 'sat:line2', 'sat:start']\n",
      "telescope/0/alignmentmode   : 1\n",
      "telescope/0/aperturearea    : 0.0\n",
      "telescope/0/aperturediameter: 0.0\n",
      "telescope/0/atpark          : False\n",
      "telescope/0/altitude        : 64.62233263579526\n",
      "telescope/0/azimuth         : 161.81389020348084\n",
      "telescope/0/canfindhome     : False\n",
      "telescope/0/canpark         : True\n",
      "telescope/0/canpulseguide   : True\n",
      "telescope/0/cansetpark      : True\n",
      "telescope/0/cansetpierside  : False\n",
      "telescope/0/cansettracking  : True\n",
      "telescope/0/canslew         : True\n",
      "telescope/0/canslewaltaz    : True\n",
      "telescope/0/canslewaltazasync: True\n",
      "telescope/0/canslewasync    : True\n",
      "telescope/0/cansync         : True\n",
      "telescope/0/cansyncaltaz    : False\n",
      "telescope/0/cansetguiderates: True\n",
      "telescope/0/cansetpark      : True\n",
      "telescope/0/sideofpier      : -1\n",
      "telescope/0/siderealtime    : 4.827101152422454\n",
      "telescope/0/utcdate         : 2023-05-10T18:17:16.788\n",
      "telescope/0/siteelevation   : 2850.0\n",
      "telescope/0/slewsettletime  : 0\n",
      "telescope/0/trackingrates   : [0, 1, 2]\n"
     ]
    }
   ],
   "source": [
    "endpoint = 'telescope/0/'\n",
    "send_request(endpoint, 'connected')\n",
    "send_request(endpoint, 'description')\n",
    "send_request(endpoint, 'driverinfo')\n",
    "send_request(endpoint, 'driverversion')\n",
    "send_request(endpoint, 'interfaceversion')\n",
    "send_request(endpoint, 'name')\n",
    "send_request(endpoint, 'supportedactions')\n",
    "send_request(endpoint, 'alignmentmode')\n",
    "send_request(endpoint, 'aperturearea')\n",
    "send_request(endpoint, 'aperturediameter')\n",
    "send_request(endpoint, 'atpark')\n",
    "send_request(endpoint, 'altitude')\n",
    "send_request(endpoint, 'azimuth')\n",
    "send_request(endpoint, 'canfindhome')\n",
    "send_request(endpoint, 'canpark')\n",
    "send_request(endpoint, 'canpulseguide')\n",
    "send_request(endpoint, 'cansetpark')\n",
    "send_request(endpoint, 'cansetpierside')\n",
    "send_request(endpoint, 'cansettracking')\n",
    "send_request(endpoint, 'canslew')\n",
    "send_request(endpoint, 'canslewaltaz')\n",
    "send_request(endpoint, 'canslewaltazasync')\n",
    "send_request(endpoint, 'canslewasync')\n",
    "send_request(endpoint, 'cansync')\n",
    "send_request(endpoint, 'cansyncaltaz')\n",
    "send_request(endpoint, 'cansetguiderates')\n",
    "send_request(endpoint, 'cansetpark')\n",
    "send_request(endpoint, 'sideofpier')\n",
    "send_request(endpoint, 'siderealtime')\n",
    "send_request(endpoint, 'utcdate')\n",
    "send_request(endpoint, 'siteelevation')\n",
    "send_request(endpoint, 'slewsettletime')\n",
    "send_request(endpoint, 'trackingrates')\n"
   ]
  },
  {
   "cell_type": "code",
   "execution_count": 48,
   "metadata": {
    "ExecuteTime": {
     "end_time": "2023-05-10T04:59:12.700687Z",
     "start_time": "2023-05-10T04:59:12.357076Z"
    }
   },
   "outputs": [
    {
     "name": "stdout",
     "output_type": "stream",
     "text": [
      "dome/0/connected       : True\n",
      "dome/0/description     : ASA Dome Alpaca\n",
      "dome/0/driverinfo      : ASCOM Dynamic Driver v6.6.1.3673 - REMOTE DEVICE: ASADome Vers. 6.0.0.3\n",
      "dome/0/driverversion   : 2.0\n",
      "dome/0/interfaceversion: 2\n",
      "dome/0/name            : ASA Dome\n",
      "dome/0/supportedactions: ['TurnLeft', 'TurnRight']\n",
      "dome/0/altitude        : 137.93166666666667\n",
      "dome/0/azimuth         : 137.93166666666667\n",
      "dome/0/atpark          : False\n",
      "dome/0/canfindhome     : False\n",
      "dome/0/canpark         : False\n",
      "dome/0/cansetaltitude  : False\n",
      "dome/0/cansetazimuth   : True\n",
      "dome/0/cansetpark      : False\n",
      "dome/0/cansetshutter   : True\n",
      "dome/0/canslave        : False\n",
      "dome/0/cansyncazimuth  : False\n"
     ]
    }
   ],
   "source": [
    "endpoint = 'dome/0/'\n",
    "send_request(endpoint, 'connected')\n",
    "send_request(endpoint, 'description')\n",
    "send_request(endpoint, 'driverinfo')\n",
    "send_request(endpoint, 'driverversion')\n",
    "send_request(endpoint, 'interfaceversion')\n",
    "send_request(endpoint, 'name')\n",
    "send_request(endpoint, 'supportedactions')\n",
    "send_request(endpoint, 'altitude')\n",
    "send_request(endpoint, 'azimuth')\n",
    "send_request(endpoint, 'atpark')\n",
    "send_request(endpoint, 'canfindhome')\n",
    "send_request(endpoint, 'canpark')\n",
    "send_request(endpoint, 'cansetaltitude')\n",
    "send_request(endpoint, 'cansetazimuth')\n",
    "send_request(endpoint, 'cansetpark')\n",
    "send_request(endpoint, 'cansetshutter')\n",
    "send_request(endpoint, 'canslave')\n",
    "send_request(endpoint, 'cansyncazimuth')\n"
   ]
  },
  {
   "cell_type": "code",
   "execution_count": 49,
   "metadata": {
    "ExecuteTime": {
     "end_time": "2023-05-10T04:59:42.077712Z",
     "start_time": "2023-05-10T04:59:41.893076Z"
    }
   },
   "outputs": [
    {
     "name": "stdout",
     "output_type": "stream",
     "text": [
      "filterwheel/0/connected       : True\n",
      "filterwheel/0/description     : ASCOM FilterWheel Driver for SBIG.USB_FW.\n",
      "filterwheel/0/driverinfo      : Information about the driver itself. Version: 1.1\n",
      "filterwheel/0/driverversion   : 1.1\n",
      "filterwheel/0/interfaceversion: 2\n",
      "filterwheel/0/name            : Short driver name - please customise\n",
      "filterwheel/0/supportedactions: []\n",
      "filterwheel/0/canmove         : Error 400:  GET - Unknown device method: canmove Required format is: api/vx/devicetype/y/method where x is the one based API version number and y is the zero based number of the device. The whole URL must be in lower case.\n",
      "filterwheel/0/names           : ['u', '2', '3', '4', '5', '6', '7', '8', '9', '10']\n",
      "filterwheel/0/position        : 0\n",
      "filterwheel/0/focusoffsets    : [0, 0, 0, 0, 0, 0, 0, 0, 0, 0]\n"
     ]
    }
   ],
   "source": [
    "endpoint = 'filterwheel/0/'\n",
    "send_request(endpoint, 'connected')\n",
    "send_request(endpoint, 'description')\n",
    "send_request(endpoint, 'driverinfo')\n",
    "send_request(endpoint, 'driverversion')\n",
    "send_request(endpoint, 'interfaceversion')\n",
    "send_request(endpoint, 'name')\n",
    "send_request(endpoint, 'supportedactions')\n",
    "send_request(endpoint, 'canmove')\n",
    "send_request(endpoint, 'names')\n",
    "send_request(endpoint, 'position')\n",
    "send_request(endpoint, 'focusoffsets')"
   ]
  },
  {
   "cell_type": "code",
   "execution_count": 50,
   "metadata": {
    "ExecuteTime": {
     "end_time": "2023-05-10T05:00:18.873997Z",
     "start_time": "2023-05-10T05:00:18.570976Z"
    }
   },
   "outputs": [
    {
     "name": "stdout",
     "output_type": "stream",
     "text": [
      "focuser/0/connected       : True\n",
      "focuser/0/description     : ACC Alpaca Focuser\n",
      "focuser/0/driverinfo      : ASCOM Dynamic Driver v6.6.1.3673 - REMOTE DEVICE: ACC Vers. 0.4.0.4\n",
      "focuser/0/driverversion   : 2.0\n",
      "focuser/0/interfaceversion: 3\n",
      "focuser/0/name            : ACC Focuser\n",
      "focuser/0/supportedactions: ['fansstatus', 'fansturnon', 'fansturnoff', 'findhome', 'velspeed', 'isinstalled', 'errorraised', 'close', 'preventuserclose', 'imageplane_info', 'imageplane_move_all_motors_to', 'imageplane_move_one_motor_offset', 'imageplane_move_all_motors_offset', 'imageplane_stop_one_motor', 'imageplane_stop_all_motors', 'mirrorcell_info', 'mirrorcell_move_all_motors_to', 'mirrorcell_move_one_motor_offset', 'mirrorcell_move_all_motors_offset', 'mirrorcell_stop_one_motor', 'mirrorcell_stop_all_motors']\n",
      "focuser/0/absolute        : True\n",
      "focuser/0/ismoving        : False\n",
      "focuser/0/maxincrement    : 28000\n",
      "focuser/0/maxstep         : 28000\n",
      "focuser/0/position        : 15565\n",
      "focuser/0/stepsize        : 1.0\n",
      "focuser/0/tempcomp        : False\n",
      "focuser/0/tempcompavailable: True\n",
      "focuser/0/temperature     : 0.0\n"
     ]
    }
   ],
   "source": [
    "endpoint = 'focuser/0/'\n",
    "send_request(endpoint, 'connected')\n",
    "send_request(endpoint, 'description')\n",
    "send_request(endpoint, 'driverinfo')\n",
    "send_request(endpoint, 'driverversion')\n",
    "send_request(endpoint, 'interfaceversion')\n",
    "send_request(endpoint, 'name')\n",
    "send_request(endpoint, 'supportedactions')\n",
    "send_request(endpoint, 'absolute')\n",
    "send_request(endpoint, 'ismoving')\n",
    "send_request(endpoint, 'maxincrement')\n",
    "send_request(endpoint, 'maxstep')\n",
    "send_request(endpoint, 'position')\n",
    "send_request(endpoint, 'stepsize')\n",
    "send_request(endpoint, 'tempcomp')\n",
    "send_request(endpoint, 'tempcompavailable')\n",
    "send_request(endpoint, 'temperature')"
   ]
  },
  {
   "cell_type": "code",
   "execution_count": 51,
   "metadata": {
    "ExecuteTime": {
     "end_time": "2023-05-10T05:01:14.194108Z",
     "start_time": "2023-05-10T05:01:13.970929Z"
    }
   },
   "outputs": [
    {
     "name": "stdout",
     "output_type": "stream",
     "text": [
      "rotator/0/connected       : True\n",
      "rotator/0/description     : ACC Alpaca Rotator\n",
      "rotator/0/driverinfo      : ASCOM Dynamic Driver v6.6.1.3673 - REMOTE DEVICE: ACC Vers. 0.4.0.4\n",
      "rotator/0/driverversion   : 1.0\n",
      "rotator/0/interfaceversion: 3\n",
      "rotator/0/name            : ACC Rotator\n",
      "rotator/0/supportedactions: ['isinstalled', 'maxspeed', 'velspeed', 'findhome', 'axisnumber', 'errorraised', 'preventuserclose']\n",
      "rotator/0/canreverse      : True\n",
      "rotator/0/position        : 137.68295288085938\n",
      "rotator/0/reverse         : False\n",
      "rotator/0/stepsize        : 0.009999999776482582\n",
      "rotator/0/targetposition  : 0.0\n",
      "rotator/0/temperature     : Error 400:  GET - Unknown device method: temperature Required format is: api/vx/devicetype/y/method where x is the one based API version number and y is the zero based number of the device. The whole URL must be in lower case.\n"
     ]
    }
   ],
   "source": [
    "endpoint = 'rotator/0/'\n",
    "send_request(endpoint, 'connected')\n",
    "send_request(endpoint, 'description')\n",
    "send_request(endpoint, 'driverinfo')\n",
    "send_request(endpoint, 'driverversion')\n",
    "send_request(endpoint, 'interfaceversion')\n",
    "send_request(endpoint, 'name')\n",
    "send_request(endpoint, 'supportedactions')\n",
    "send_request(endpoint, 'canreverse')\n",
    "send_request(endpoint, 'position')\n",
    "send_request(endpoint, 'reverse')\n",
    "send_request(endpoint, 'stepsize')\n",
    "send_request(endpoint, 'targetposition')\n",
    "send_request(endpoint, 'temperature')"
   ]
  },
  {
   "cell_type": "code",
   "execution_count": 52,
   "metadata": {
    "ExecuteTime": {
     "end_time": "2023-05-10T05:01:41.638699Z",
     "start_time": "2023-05-10T05:01:40.856581Z"
    }
   },
   "outputs": [
    {
     "name": "stdout",
     "output_type": "stream",
     "text": [
      "camera/0/connected       : True\n",
      "camera/0/description     : Andor CCD/EMCCD (SDK2)\n",
      "camera/0/driverinfo      : Andor CCD/EMCCD (SDK2) Version: 6.0\n",
      "camera/0/driverversion   : 6.0\n",
      "camera/0/interfaceversion: 2\n",
      "camera/0/name            : Ascom Driver for Andor CCD Cameras\n",
      "camera/0/supportedactions: []\n",
      "camera/0/binx            : 1\n",
      "camera/0/biny            : 1\n",
      "camera/0/camerastate     : 0\n",
      "camera/0/canabortexposure: True\n",
      "camera/0/canpulseguide   : False\n",
      "camera/0/cansetccdtemperature: True\n",
      "camera/0/cameraxsize     : 2048\n",
      "camera/0/cameraysize     : 2048\n",
      "camera/0/ccdtemperature  : -59.777000427246094\n",
      "camera/0/setccdtemperature: -60.0\n",
      "camera/0/electronsperadu : 0.0\n",
      "camera/0/fullwellcapacity: 0.0\n",
      "camera/0/gain            : 2\n",
      "camera/0/hasshutter      : True\n",
      "camera/0/cangetcoolerpower: True\n",
      "camera/0/canstopexposure : True\n",
      "camera/0/cooleron        : True\n",
      "camera/0/coolerpower     : 0.0\n",
      "camera/0/exposuremax     : 32768.0\n",
      "camera/0/exposuremin     : 1e-05\n",
      "camera/0/exposureresolution: 1e-05\n",
      "camera/0/canfastreadout  : False\n",
      "camera/0/fastreadout     : False\n",
      "camera/0/imageready      : False\n",
      "camera/0/lastexposureduration: 0.0\n",
      "camera/0/lastexposurestarttime: \n",
      "camera/0/maxadu          : 65535\n",
      "camera/0/numx            : 2048\n",
      "camera/0/numy            : 2048\n",
      "camera/0/readoutmode     : 0\n",
      "camera/0/readoutmodes    : ['5MHz High Sensitivity 16-bit ', '3MHz High Sensitivity 16-bit ', '1MHz High Sensitivity 16-bit ', '0.05MHz High Sensitivity 16-bit ']\n",
      "camera/0/sensorname      : DW936_BV\n",
      "camera/0/sensortype      : 0\n",
      "camera/0/heatsinktemperature: 0.0\n",
      "camera/0/offset          : 0\n",
      "camera/0/offsets         : []\n",
      "camera/0/offsetmax       : 0\n",
      "camera/0/offsetmin       : 0\n",
      "camera/0/percentcompleted: 0\n",
      "camera/0/subexposureduration: 0.0\n"
     ]
    }
   ],
   "source": [
    "endpoint = 'camera/0/'\n",
    "send_request(endpoint, 'connected')\n",
    "send_request(endpoint, 'description')\n",
    "send_request(endpoint, 'driverinfo')\n",
    "send_request(endpoint, 'driverversion')\n",
    "send_request(endpoint, 'interfaceversion')\n",
    "send_request(endpoint, 'name')\n",
    "send_request(endpoint, 'supportedactions')\n",
    "send_request(endpoint, 'binx')\n",
    "send_request(endpoint, 'biny')\n",
    "send_request(endpoint, 'camerastate')\n",
    "send_request(endpoint, 'canabortexposure')\n",
    "send_request(endpoint, 'canpulseguide')\n",
    "send_request(endpoint, 'cansetccdtemperature')\n",
    "send_request(endpoint, 'cameraxsize')\n",
    "send_request(endpoint, 'cameraysize')\n",
    "send_request(endpoint, 'ccdtemperature')\n",
    "send_request(endpoint, 'setccdtemperature')\n",
    "send_request(endpoint, 'electronsperadu')\n",
    "send_request(endpoint, 'fullwellcapacity')\n",
    "send_request(endpoint, 'gain')\n",
    "send_request(endpoint, 'hasshutter')\n",
    "send_request(endpoint, 'cangetcoolerpower')\n",
    "send_request(endpoint, 'canstopexposure')\n",
    "send_request(endpoint, 'cooleron')\n",
    "send_request(endpoint, 'coolerpower')\n",
    "send_request(endpoint, 'exposuremax')\n",
    "send_request(endpoint, 'exposuremin')\n",
    "send_request(endpoint, 'exposureresolution')\n",
    "send_request(endpoint, 'canfastreadout')\n",
    "send_request(endpoint, 'fastreadout')\n",
    "send_request(endpoint, 'imageready')\n",
    "send_request(endpoint, 'lastexposureduration')\n",
    "send_request(endpoint, 'lastexposurestarttime')\n",
    "send_request(endpoint, 'maxadu')\n",
    "send_request(endpoint, 'numx')\n",
    "send_request(endpoint, 'numy')\n",
    "send_request(endpoint, 'readoutmode')\n",
    "send_request(endpoint, 'readoutmodes')\n",
    "send_request(endpoint, 'sensorname')\n",
    "send_request(endpoint, 'sensortype')\n",
    "send_request(endpoint, 'heatsinktemperature')\n",
    "# send_request(endpoint, 'imagearray')\n",
    "send_request(endpoint, 'offset')\n",
    "send_request(endpoint, 'offsets')\n",
    "send_request(endpoint, 'offsetmax')\n",
    "send_request(endpoint, 'offsetmin')\n",
    "send_request(endpoint, 'percentcompleted')\n",
    "send_request(endpoint, 'subexposureduration')"
   ]
  },
  {
   "cell_type": "code",
   "execution_count": 53,
   "metadata": {
    "ExecuteTime": {
     "end_time": "2023-05-10T05:03:38.634350Z",
     "start_time": "2023-05-10T05:03:38.021094Z"
    }
   },
   "outputs": [
    {
     "name": "stdout",
     "output_type": "stream",
     "text": [
      "covercalibrator/0/connected       : False\n",
      "covercalibrator/0/description     : ACC Alpaca CoverCalibrator\n",
      "covercalibrator/0/driverinfo      : ASCOM Dynamic Driver v6.6.1.3673 - REMOTE DEVICE: ACC Vers. 0.4.0.4\n",
      "covercalibrator/0/driverversion   : 1.0\n",
      "covercalibrator/0/interfaceversion: 1\n",
      "covercalibrator/0/name            : ACC CoverCalibrator\n",
      "covercalibrator/0/supportedactions: ['coverstatus', 'coversinstalled', 'errorraised', 'stop', 'preventuserclose']\n",
      "covercalibrator/0/calibratorstate : 0\n",
      "covercalibrator/0/brightness      : 0\n",
      "covercalibrator/0/coverstate      : 1\n",
      "covercalibrator/0/maxbrightness   : 0\n"
     ]
    }
   ],
   "source": [
    "endpoint = 'covercalibrator/0/'\n",
    "send_request(endpoint, 'connected')\n",
    "send_request(endpoint, 'description')\n",
    "send_request(endpoint, 'driverinfo')\n",
    "send_request(endpoint, 'driverversion')\n",
    "send_request(endpoint, 'interfaceversion')\n",
    "send_request(endpoint, 'name')\n",
    "send_request(endpoint, 'supportedactions')\n",
    "send_request(endpoint, 'calibratorstate')\n",
    "send_request(endpoint, 'brightness')\n",
    "send_request(endpoint, 'coverstate')\n",
    "send_request(endpoint, 'maxbrightness')\n",
    "\n"
   ]
  },
  {
   "cell_type": "code",
   "execution_count": null,
   "metadata": {},
   "outputs": [],
   "source": []
  },
  {
   "cell_type": "code",
   "execution_count": null,
   "metadata": {},
   "outputs": [],
   "source": []
  },
  {
   "cell_type": "code",
   "execution_count": null,
   "metadata": {},
   "outputs": [],
   "source": []
  }
 ],
 "metadata": {
  "kernelspec": {
   "display_name": "Python 3 (ipykernel)",
   "language": "python",
   "name": "python3"
  },
  "language_info": {
   "codemirror_mode": {
    "name": "ipython",
    "version": 3
   },
   "file_extension": ".py",
   "mimetype": "text/x-python",
   "name": "python",
   "nbconvert_exporter": "python",
   "pygments_lexer": "ipython3",
   "version": "3.8.5"
  }
 },
 "nbformat": 4,
 "nbformat_minor": 1
}
